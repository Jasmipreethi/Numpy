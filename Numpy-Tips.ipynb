{
 "cells": [
  {
   "cell_type": "code",
   "execution_count": 1,
   "id": "fdbaa27b",
   "metadata": {},
   "outputs": [],
   "source": [
    "import numpy as np"
   ]
  },
  {
   "cell_type": "code",
   "execution_count": 55,
   "id": "e39a673b",
   "metadata": {},
   "outputs": [],
   "source": [
    "obj=np.genfromtxt(r\"/Users/sreemurthy/Downloads/tipsf.csv\",dtype=object,delimiter=\",\",skip_header=1)"
   ]
  },
  {
   "cell_type": "code",
   "execution_count": 56,
   "id": "cfa1054e",
   "metadata": {},
   "outputs": [
    {
     "data": {
      "text/plain": [
       "array([[b'0', b'16.99', b'1.01', ..., b'1', b'0', b'2'],\n",
       "       [b'1', b'10.34', b'1.66', ..., b'1', b'0', b'3'],\n",
       "       [b'2', b'21.01', b'3.5', ..., b'1', b'0', b'3'],\n",
       "       ...,\n",
       "       [b'241', b'22.67', b'2.0', ..., b'0', b'0', b'2'],\n",
       "       [b'242', b'17.82', b'1.75', ..., b'0', b'0', b'2'],\n",
       "       [b'243', b'18.78', b'3.0', ..., b'2', b'0', b'2']], dtype=object)"
      ]
     },
     "execution_count": 56,
     "metadata": {},
     "output_type": "execute_result"
    }
   ],
   "source": [
    "obj"
   ]
  },
  {
   "cell_type": "code",
   "execution_count": 57,
   "id": "a4c308ea",
   "metadata": {},
   "outputs": [],
   "source": [
    "#1. What is the total bill?\n",
    "\n",
    "a=np.sum(obj,dtype=float,axis=0)\n",
    "totalBill=a[1]"
   ]
  },
  {
   "cell_type": "code",
   "execution_count": 58,
   "id": "2eeb3df9",
   "metadata": {},
   "outputs": [
    {
     "data": {
      "text/plain": [
       "4827.770000000001"
      ]
     },
     "execution_count": 58,
     "metadata": {},
     "output_type": "execute_result"
    }
   ],
   "source": [
    "totalBill"
   ]
  },
  {
   "cell_type": "code",
   "execution_count": 59,
   "id": "02687da8",
   "metadata": {},
   "outputs": [],
   "source": [
    "#2. What is the total tip value?\n",
    "\n",
    "totalTip=a[2]"
   ]
  },
  {
   "cell_type": "code",
   "execution_count": 60,
   "id": "15e528d1",
   "metadata": {},
   "outputs": [
    {
     "data": {
      "text/plain": [
       "731.58"
      ]
     },
     "execution_count": 60,
     "metadata": {},
     "output_type": "execute_result"
    }
   ],
   "source": [
    "totalTip"
   ]
  },
  {
   "cell_type": "code",
   "execution_count": 39,
   "id": "fc6fa1fb",
   "metadata": {},
   "outputs": [
    {
     "name": "stdout",
     "output_type": "stream",
     "text": [
      "Total Sundays 76\n",
      "Total Saturdays 87\n",
      "Total Thursdays 62\n",
      "Total Fridays 19\n"
     ]
    }
   ],
   "source": [
    "#3 Number of (i) Sundays, (ii) Saturday, (iii) Thursday, (iv) Friday\n",
    "\n",
    "l=np.shape(obj)[0]\n",
    "sun=sat=th=fri=0\n",
    "for x in range(l):\n",
    "    if int(obj[x,5])==1:\n",
    "        sun+=1\n",
    "    elif int(obj[x,5])==0:\n",
    "        sat+=1\n",
    "    elif int(obj[x,5])==2:\n",
    "        th+=1\n",
    "    elif int(obj[x,5])==3:\n",
    "        fri+=1\n",
    "    else:\n",
    "        continue\n",
    "print(\"Total Sundays {}\\nTotal Saturdays {}\\nTotal Thursdays {}\\nTotal Fridays {}\".format(sun,sat,th,fri))"
   ]
  },
  {
   "cell_type": "code",
   "execution_count": 41,
   "id": "d40a90a4",
   "metadata": {},
   "outputs": [
    {
     "name": "stdout",
     "output_type": "stream",
     "text": [
      "Smokers: 93\n"
     ]
    }
   ],
   "source": [
    "#4 How many smokers?\n",
    "\n",
    "smoker=0\n",
    "for x in range(l):\n",
    "    if int(obj[x,4])==0:\n",
    "        continue\n",
    "    else:\n",
    "        smoker+=1\n",
    "print(\"Smokers:\",smoker)"
   ]
  },
  {
   "cell_type": "code",
   "execution_count": 68,
   "id": "12e0fd2b",
   "metadata": {},
   "outputs": [
    {
     "name": "stdout",
     "output_type": "stream",
     "text": [
      "Average tip by males is 2.833448275862069 and by females is 3.0896178343949052\n"
     ]
    }
   ],
   "source": [
    "# Average tip given by males and females\n",
    "\n",
    "mtip=ftip=f=0\n",
    "for x in range(l):\n",
    "    if int(obj[x,3])==0: #female\n",
    "        ftip+=float(obj[x,2])\n",
    "        f+=1\n",
    "    else: #male\n",
    "        mtip+=float(obj[x,2])\n",
    "avg_ftip=ftip/f\n",
    "avg_mtip=mtip/(l-f)\n",
    "print(\"Average tip by males is {} and by females is {}\".format(avg_ftip,avg_mtip))"
   ]
  },
  {
   "cell_type": "code",
   "execution_count": 71,
   "id": "a70dcb0d",
   "metadata": {},
   "outputs": [
    {
     "name": "stdout",
     "output_type": "stream",
     "text": [
      "Total money spent by males is 3741.8900000000017 and females is 1817.4600000000005.\n"
     ]
    }
   ],
   "source": [
    "# Total money spent by male and female\n",
    "\n",
    "m_mon=f_mon=0\n",
    "for x in range(l):\n",
    "    if int(obj[x,3])==0: #female\n",
    "        f_mon+=float(obj[x,2])+float(obj[x,1])\n",
    "\n",
    "    else: #male\n",
    "        m_mon+=float(obj[x,2])+float(obj[x,1])\n",
    "print(\"Total money spent by males is {} and females is {}.\".format(m_mon,f_mon))"
   ]
  },
  {
   "cell_type": "code",
   "execution_count": 77,
   "id": "07639114",
   "metadata": {},
   "outputs": [
    {
     "name": "stdout",
     "output_type": "stream",
     "text": [
      "The minimum tip is 1.0 and the maximum tip is 9.0\n"
     ]
    }
   ],
   "source": [
    "# Minimum and maximum tip\n",
    "\n",
    "print(\"The minimum tip is {} and the maximum tip is {}\".format(float(np.min(obj[:,2])),float(np.max(obj[:,2]))))"
   ]
  },
  {
   "cell_type": "code",
   "execution_count": 79,
   "id": "8a9b39d3",
   "metadata": {},
   "outputs": [
    {
     "name": "stdout",
     "output_type": "stream",
     "text": [
      "Number of males and females for lunch are 33, 35.\n",
      "Number of males and females for dinner are 124, 52.\n"
     ]
    }
   ],
   "source": [
    "# Number of males and females going for dinner and lunch\n",
    "\n",
    "f_dinner=f_lunch=m_dinner=m_lunch=0\n",
    "for x in range(l):\n",
    "    if int(obj[x,3])==0:\n",
    "        if int(obj[x,6])==0:\n",
    "            f_dinner+=1\n",
    "        else:\n",
    "            f_lunch+=1\n",
    "    else:\n",
    "        if int(obj[x,6])==0:\n",
    "            m_dinner+=1\n",
    "        else:\n",
    "            m_lunch+=1\n",
    "print(\"Number of males and females for lunch are {}, {}.\\nNumber of males and females for dinner are {}, {}.\".format(m_lunch,f_lunch,m_dinner,f_dinner))"
   ]
  },
  {
   "cell_type": "code",
   "execution_count": 85,
   "id": "f7d85279",
   "metadata": {},
   "outputs": [
    {
     "name": "stdout",
     "output_type": "stream",
     "text": [
      "The average size is 2.569672131147541\n"
     ]
    }
   ],
   "source": [
    "# Average size\n",
    "\n",
    "avg=np.mean(obj,dtype=float,axis=0)[7]\n",
    "print(\"The average size is\",avg)"
   ]
  },
  {
   "cell_type": "code",
   "execution_count": 86,
   "id": "e03a5bfc",
   "metadata": {},
   "outputs": [
    {
     "name": "stdout",
     "output_type": "stream",
     "text": [
      "The number of female and male smokers are 33 and 60.\n"
     ]
    }
   ],
   "source": [
    "# Female and male smokers\n",
    "\n",
    "f_smoke=m_smoke=0\n",
    "for x in range(l):\n",
    "    if int(obj[x,4])==1:\n",
    "        if int(obj[x,3])==1:\n",
    "            m_smoke+=1\n",
    "        else:\n",
    "            f_smoke+=1\n",
    "    else:\n",
    "        continue\n",
    "print(\"The number of female and male smokers are {} and {}.\".format(f_smoke,m_smoke))"
   ]
  },
  {
   "cell_type": "code",
   "execution_count": null,
   "id": "795577b4",
   "metadata": {},
   "outputs": [],
   "source": []
  }
 ],
 "metadata": {
  "kernelspec": {
   "display_name": "Python 3 (ipykernel)",
   "language": "python",
   "name": "python3"
  },
  "language_info": {
   "codemirror_mode": {
    "name": "ipython",
    "version": 3
   },
   "file_extension": ".py",
   "mimetype": "text/x-python",
   "name": "python",
   "nbconvert_exporter": "python",
   "pygments_lexer": "ipython3",
   "version": "3.10.9"
  }
 },
 "nbformat": 4,
 "nbformat_minor": 5
}
